{
 "cells": [
  {
   "cell_type": "code",
   "execution_count": 155,
   "id": "e85c0763",
   "metadata": {},
   "outputs": [],
   "source": [
    "import numpy as np\n",
    "import matplotlib.pyplot as plt"
   ]
  },
  {
   "cell_type": "code",
   "execution_count": 156,
   "id": "0a2e954f",
   "metadata": {},
   "outputs": [],
   "source": [
    "def arrival_time(lambda_):\n",
    "    return np.random.exponential(1 / lambda_)"
   ]
  },
  {
   "cell_type": "code",
   "execution_count": 157,
   "id": "0513a770",
   "metadata": {},
   "outputs": [],
   "source": [
    "def time_of_stay(mu):\n",
    "    return np.random.exponential(mu)"
   ]
  },
  {
   "cell_type": "code",
   "execution_count": 158,
   "id": "82e61cc2",
   "metadata": {},
   "outputs": [],
   "source": [
    "def simulate_arrival_time_day(lambda_, days_simulation):\n",
    "\n",
    "    total = 0\n",
    "    arrivals_time = []\n",
    "\n",
    "    while total < days_simulation:\n",
    "        time_arrival = arrival_time(lambda_)\n",
    "        arrivals_time.append(time_arrival)\n",
    "\n",
    "        total += time_arrival\n",
    "\n",
    "    return np.array(np.cumsum(arrivals_time))"
   ]
  },
  {
   "cell_type": "code",
   "execution_count": 159,
   "id": "b2ed7386",
   "metadata": {},
   "outputs": [],
   "source": [
    "def extract_new_ward(patient, transition_probability):\n",
    "\n",
    "    possible_wards = np.arange(0, transition_probability.shape[0])\n",
    "    new_ward = np.random.choice(possible_wards, p=transition_probability[patient, : ])\n",
    "\n",
    "    return new_ward"
   ]
  },
  {
   "cell_type": "code",
   "execution_count": 160,
   "id": "08e10fcf",
   "metadata": {},
   "outputs": [],
   "source": [
    "def list_arrive_patient(arrivals_time):\n",
    "    result = []\n",
    "    for idx, sublist in enumerate(arrivals_time):\n",
    "        for value in sublist:\n",
    "            result.append((value, idx))\n",
    "    \n",
    "    # Sort by arrival time (first element of tuple)\n",
    "    result.sort()\n",
    "    return result"
   ]
  },
  {
   "cell_type": "code",
   "execution_count": 161,
   "id": "4a873b8e",
   "metadata": {},
   "outputs": [],
   "source": [
    "def count_new_departures(leaving_time, processed, current_time, n_types):\n",
    "    departures_count = [0] * n_types\n",
    "\n",
    "    for i, (t, p_type) in enumerate(leaving_time):\n",
    "        if not processed[i] and t <= current_time:\n",
    "            departures_count[p_type] += 1\n",
    "            processed[i] = True  # mark as processed\n",
    "\n",
    "    return departures_count, processed"
   ]
  },
  {
   "cell_type": "code",
   "execution_count": 162,
   "id": "bea92134",
   "metadata": {},
   "outputs": [],
   "source": [
    "def simulate(\n",
    "    transition_probability,\n",
    "    lambdas,\n",
    "    mean_length_stay,\n",
    "    bed_capacity,\n",
    "    days_simulation\n",
    "):\n",
    "    n_types = len(lambdas)\n",
    "    type_patients = np.arange(n_types)\n",
    "\n",
    "    occupied_bed = np.zeros(n_types, dtype=int)\n",
    "    rejected_patients = np.zeros(n_types, dtype=int)\n",
    "\n",
    "    # Time-tracking\n",
    "    occupied_bed_timeline = []\n",
    "    rejected_patients_timeline = []\n",
    "    time_timeline = []\n",
    "\n",
    "    # Relocation tracking: [original_type, relocated_to]\n",
    "    relocated_patients = np.zeros((n_types, n_types), dtype=int)\n",
    "\n",
    "    # Simulate arrivals per type\n",
    "    arrival_time_total = [\n",
    "        simulate_arrival_time_day(lambdas[tp], days_simulation)\n",
    "        for tp in type_patients\n",
    "    ]\n",
    "    mix_arrivals_time = list_arrive_patient(arrival_time_total)\n",
    "\n",
    "    # Leave tracking\n",
    "    leaving_time = []\n",
    "    processed = []\n",
    "\n",
    "    for arrival_time, patient_type in mix_arrivals_time:\n",
    "        # Discharge patients whose time has come\n",
    "        departures_count, processed = count_new_departures(\n",
    "            leaving_time, processed, arrival_time, n_types\n",
    "        )\n",
    "        occupied_bed -= departures_count\n",
    "\n",
    "        # Try to admit to primary ward\n",
    "        if occupied_bed[patient_type] < bed_capacity[patient_type]:\n",
    "            occupied_bed[patient_type] += 1\n",
    "            stay_time = time_of_stay(1 / mean_length_stay[patient_type])\n",
    "            departure_time = arrival_time + stay_time\n",
    "            leaving_time.append((departure_time, patient_type))\n",
    "            processed.append(False)\n",
    "        else:\n",
    "            # Try redirecting\n",
    "            new_ward = extract_new_ward(patient_type, transition_probability)\n",
    "\n",
    "            if occupied_bed[new_ward] < bed_capacity[new_ward]:\n",
    "                occupied_bed[new_ward] += 1\n",
    "                stay_time = time_of_stay(1 / mean_length_stay[new_ward])\n",
    "                departure_time = arrival_time + stay_time\n",
    "                leaving_time.append((departure_time, new_ward))\n",
    "                processed.append(False)\n",
    "\n",
    "                # Track relocation from original type to new ward\n",
    "                relocated_patients[patient_type, new_ward] += 1\n",
    "            else:\n",
    "                rejected_patients[patient_type] += 1\n",
    "\n",
    "        # Record snapshot\n",
    "        occupied_bed_timeline.append(occupied_bed.copy())\n",
    "        rejected_patients_timeline.append(rejected_patients.copy())\n",
    "        time_timeline.append(arrival_time)\n",
    "\n",
    "    return (\n",
    "        np.array(occupied_bed_timeline),\n",
    "        np.array(rejected_patients_timeline),\n",
    "        np.array(time_timeline),\n",
    "        leaving_time,\n",
    "        relocated_patients\n",
    "    )\n"
   ]
  },
  {
   "cell_type": "code",
   "execution_count": 163,
   "id": "6e1aecbd",
   "metadata": {},
   "outputs": [],
   "source": [
    "\n",
    "P = np.array([\n",
    "    [0.00, 0.05, 0.10, 0.05, 0.80],  # From A\n",
    "    [0.20, 0.00, 0.50, 0.15, 0.15],  # From B\n",
    "    [0.30, 0.20, 0.00, 0.20, 0.30],  # From C\n",
    "    [0.35, 0.30, 0.05, 0.00, 0.30],  # From D\n",
    "    [0.20, 0.10, 0.60, 0.10, 0.00],  # From E\n",
    "])\n",
    "\n",
    "bed_capacities = [55, 40, 30, 20, 20]\n",
    "\n",
    "lambdas = [14.5, 11.0, 8.0, 6.5, 5.0]\n",
    "\n",
    "mean_length_of_stay = [2.9, 4.0, 4.5, 1.4, 3.9]\n",
    "\n",
    "days_simulation = 365"
   ]
  },
  {
   "cell_type": "code",
   "execution_count": 164,
   "id": "d6822c4d",
   "metadata": {},
   "outputs": [],
   "source": [
    "occ_bed_hist, rej_hist, time_hist, leaves, reloc_matrix = simulate(\n",
    "    P, lambdas, mean_length_of_stay, bed_capacities, days_simulation\n",
    ")"
   ]
  }
 ],
 "metadata": {
  "kernelspec": {
   "display_name": "stochastic_simulation_env",
   "language": "python",
   "name": "python3"
  },
  "language_info": {
   "codemirror_mode": {
    "name": "ipython",
    "version": 3
   },
   "file_extension": ".py",
   "mimetype": "text/x-python",
   "name": "python",
   "nbconvert_exporter": "python",
   "pygments_lexer": "ipython3",
   "version": "3.11.8"
  }
 },
 "nbformat": 4,
 "nbformat_minor": 5
}
