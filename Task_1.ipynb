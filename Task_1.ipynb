{
 "cells": [
  {
   "cell_type": "code",
   "execution_count": 1,
   "id": "d6a80305",
   "metadata": {},
   "outputs": [],
   "source": [
    "# Project 1 Task 1\n",
    "\n",
    "import numpy as np\n",
    "\n",
    "# Transition matrix P\n",
    "P = np.array([[0.9915, 0.005, 0.0025, 0, 0.001],[0, 0.986, 0.005, 0.004, 0.005],[0, 0, 0.992, 0.003, 0.005],\n",
    "             [0, 0, 0, 0.991, 0.009], [0,0,0,0,1]])"
   ]
  }
 ],
 "metadata": {
  "kernelspec": {
   "display_name": "base",
   "language": "python",
   "name": "python3"
  },
  "language_info": {
   "codemirror_mode": {
    "name": "ipython",
    "version": 3
   },
   "file_extension": ".py",
   "mimetype": "text/x-python",
   "name": "python",
   "nbconvert_exporter": "python",
   "pygments_lexer": "ipython3",
   "version": "3.12.7"
  }
 },
 "nbformat": 4,
 "nbformat_minor": 5
}
